{
 "cells": [
  {
   "cell_type": "markdown",
   "metadata": {},
   "source": [
    "### Ana Lomashvili"
   ]
  },
  {
   "cell_type": "markdown",
   "metadata": {},
   "source": [
    "### 3724139"
   ]
  },
  {
   "cell_type": "markdown",
   "metadata": {},
   "source": [
    "## Programming assignment - Part 3"
   ]
  },
  {
   "cell_type": "code",
   "execution_count": 2,
   "metadata": {},
   "outputs": [],
   "source": [
    "import part3_simstudy"
   ]
  },
  {
   "cell_type": "code",
   "execution_count": 3,
   "metadata": {
    "scrolled": true
   },
   "outputs": [
    {
     "data": {
      "image/png": "[encoded data removed]",
      "text/plain": [
       "<Figure size 432x288 with 2 Axes>"
      ]
     },
     "metadata": {
      "needs_background": "light"
     },
     "output_type": "display_data"
    }
   ],
   "source": [
    "part3_simstudy.task_3_2_1()"
   ]
  },
  {
   "cell_type": "code",
   "execution_count": 4,
   "metadata": {},
   "outputs": [
    {
     "name": "stdout",
     "output_type": "stream",
     "text": [
      "For t=100s system utilization values are:\n",
      "rho=0.01 system utilization=0.00863116782248329\n",
      "rho=0.5 system utilization=0.4610399884492721\n",
      "rho=0.8 system utilization=0.7722862233645599\n",
      "rho=0.9 system utilization=0.8393473829934212\n",
      "\n",
      "For t=1000s system utilization values are:\n",
      "rho=0.01 system utilization=0.010170094765077188\n",
      "rho=0.5 system utilization=0.4692380128615397\n",
      "rho=0.8 system utilization=0.760348871457988\n",
      "rho=0.9 system utilization=0.8117480032841934\n",
      "\n"
     ]
    }
   ],
   "source": [
    "part3_simstudy.task_3_2_2()"
   ]
  },
  {
   "cell_type": "markdown",
   "metadata": {},
   "source": [
    "### Answers to Analysis and General Questions"
   ]
  },
  {
   "cell_type": "markdown",
   "metadata": {},
   "source": [
    "#### Task 3.3.1"
   ]
  },
  {
   "cell_type": "markdown",
   "metadata": {},
   "source": [
    "Random genrators don't really produce random numbers. Outputs are determind by the seed. Therefore, for running the same random generator with the same seed will give us similar results even on different machines."
   ]
  },
  {
   "cell_type": "markdown",
   "metadata": {},
   "source": [
    "#### Task 3.3.2"
   ]
  },
  {
   "cell_type": "markdown",
   "metadata": {},
   "source": [
    "As it was stated in the lecture, depending on the number of bins we get the more accurate shape of a histogram. We should be careful while choosing the number of bins as we might loose information and end up with incorrect distribution if we choose too small or too large number of bins. If we have big number of bins the histogram has many peaks(or if there are fewer samples than bins, we have gaps) and with small number, there are fewer peaks and it is hard to determine which distribution we are dealing with. Sometimes it is better to combine some cells in order to end up with smoother histograms. As a rule of thumb in the lecture it was presented that we should take square root of the number of samples."
   ]
  },
  {
   "cell_type": "markdown",
   "metadata": {},
   "source": [
    "#### Task 3.3.3"
   ]
  },
  {
   "cell_type": "markdown",
   "metadata": {},
   "source": [
    "I have observed that System utilization is not depended on simulation time or buffer size. As rho increases utilization increases as well as. Also for small rho, utilization is almost same as rho, but after increasing rho, utilization becomes smaller than rho."
   ]
  }
 ],
 "metadata": {
  "kernelspec": {
   "display_name": "Python 3",
   "language": "python",
   "name": "python3"
  },
  "language_info": {
   "codemirror_mode": {
    "name": "ipython",
    "version": 3
   },
   "file_extension": ".py",
   "mimetype": "text/x-python",
   "name": "python",
   "nbconvert_exporter": "python",
   "pygments_lexer": "ipython3",
   "version": "3.7.6"
  }
 },
 "nbformat": 4,
 "nbformat_minor": 4
}
